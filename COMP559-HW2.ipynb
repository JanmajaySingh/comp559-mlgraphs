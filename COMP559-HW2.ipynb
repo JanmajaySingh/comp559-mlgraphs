{
 "cells": [
  {
   "cell_type": "code",
   "execution_count": 2,
   "id": "2f1219ad-cb3e-4d4c-8bc4-c77070b89075",
   "metadata": {
    "tags": []
   },
   "outputs": [],
   "source": [
    "import os, sys\n",
    "import numpy as np\n",
    "\n",
    "import networkx as nx\n",
    "from sklearn import metrics"
   ]
  },
  {
   "cell_type": "markdown",
   "id": "6706f155-8c1b-473a-a523-bdab09be08e7",
   "metadata": {},
   "source": [
    "### Calculating metrics only for predicted edges"
   ]
  },
  {
   "cell_type": "code",
   "execution_count": 33,
   "id": "345827de-6453-4600-bf4b-27e16b5e0c44",
   "metadata": {},
   "outputs": [
    {
     "name": "stdout",
     "output_type": "stream",
     "text": [
      "AUC score for Case A by computing only over missing edges is:  0.5\n",
      "AUC score for Case B by computing only over missing edges is:  0.5\n"
     ]
    }
   ],
   "source": [
    "# AUC for (a) and (b), computing only over missing edges\n",
    "edges_true_a = [1,0,0]\n",
    "edges_true_b = [1,1,0]\n",
    "edges_pred = [1,1,1] # following provided heuristic\n",
    "\n",
    "print(\"AUC score for Case A by computing only over missing edges is: \", \n",
    "                                  metrics.roc_auc_score(edges_true_a, edges_pred))\n",
    "\n",
    "print(\"AUC score for Case B by computing only over missing edges is: \", \n",
    "                                  metrics.roc_auc_score(edges_true_b, edges_pred))"
   ]
  },
  {
   "cell_type": "code",
   "execution_count": 34,
   "id": "ac6fcb68-6b8d-49c8-895e-4ad3c6db64a7",
   "metadata": {},
   "outputs": [
    {
     "name": "stdout",
     "output_type": "stream",
     "text": [
      "F1 score for Case A by computing only over missing edges is:  0.5\n",
      "F1 score for Case B by computing only over missing edges is:  0.8\n"
     ]
    }
   ],
   "source": [
    "# F1 score for (a) and (b), computing only over missing edges\n",
    "print(\"F1 score for Case A by computing only over missing edges is: \", \n",
    "                                  metrics.f1_score(edges_true_a, edges_pred))\n",
    "\n",
    "print(\"F1 score for Case B by computing only over missing edges is: \", \n",
    "                                  metrics.f1_score(edges_true_b, edges_pred))"
   ]
  },
  {
   "cell_type": "code",
   "execution_count": 36,
   "id": "526a5f0e-82a5-4eae-9fbf-489d3698659f",
   "metadata": {
    "tags": []
   },
   "outputs": [],
   "source": [
    "# construct the provided graph\n",
    "g_train = nx.Graph()\n",
    "g_true1 = nx.Graph()\n",
    "g_true2 = nx.Graph()\n",
    "\n",
    "for i in range(12):\n",
    "    g_train.add_node(i)\n",
    "    g_true1.add_node(i)\n",
    "    g_true2.add_node(i)\n",
    "   \n",
    "g_train.add_edge(0,1)\n",
    "g_train.add_edge(0,2)\n",
    "g_train.add_edge(0,3)\n",
    "g_train.add_edge(4,5)\n",
    "g_train.add_edge(4,6)\n",
    "g_train.add_edge(4,7)\n",
    "g_train.add_edge(8,9)\n",
    "g_train.add_edge(8,10)\n",
    "g_train.add_edge(8,11)\n",
    "\n",
    "\n",
    "# True Graph for (a)\n",
    "g_true1.add_edge(0,1)\n",
    "g_true1.add_edge(0,2)\n",
    "g_true1.add_edge(0,3)\n",
    "g_true1.add_edge(0,4) #missing edge in the input\n",
    "g_true1.add_edge(4,5)\n",
    "g_true1.add_edge(4,6)\n",
    "g_true1.add_edge(4,7)\n",
    "g_true1.add_edge(8,9)\n",
    "g_true1.add_edge(8,10)\n",
    "g_true1.add_edge(8,11)\n",
    "\n",
    "\n",
    "# True Graph for (b)\n",
    "g_true2.add_edge(0,1)\n",
    "g_true2.add_edge(0,2)\n",
    "g_true2.add_edge(0,3)\n",
    "g_true2.add_edge(0,4) #missing edge in the input\n",
    "g_true2.add_edge(4,5)\n",
    "g_true2.add_edge(4,6)\n",
    "g_true2.add_edge(4,7)\n",
    "g_true2.add_edge(4,8) #missing edge in the input\n",
    "g_true2.add_edge(8,9)\n",
    "g_true2.add_edge(8,10)\n",
    "g_true2.add_edge(8,11)"
   ]
  },
  {
   "cell_type": "markdown",
   "id": "68bcfe70-ae62-40a6-a2c4-072f9270614b",
   "metadata": {},
   "source": [
    "### Calculating metrics for all edges"
   ]
  },
  {
   "cell_type": "code",
   "execution_count": 37,
   "id": "6c100342-54d0-4682-ab73-43a33bcb430d",
   "metadata": {
    "tags": []
   },
   "outputs": [],
   "source": [
    "def overall_metrics(g_train, g_true):\n",
    "    \n",
    "    data_list = list(nx.preferential_attachment(g_train)) # 3-tuple as output\n",
    "\n",
    "    pred_edges = []\n",
    "    true_edges = []\n",
    "    for u,v,p in data_list:\n",
    "        true_edges.append(g_true.has_edge(u,v))\n",
    "        pred_edges.append(p > 5) # threshold for link prediction is attachment score of 5+\n",
    "    \n",
    "    auc_score = np.round(metrics.roc_auc_score(true_edges, pred_edges), 4)\n",
    "    f1_score = np.round(metrics.f1_score(true_edges, pred_edges), 9)\n",
    "    \n",
    "    return(auc_score, f1_score)"
   ]
  },
  {
   "cell_type": "code",
   "execution_count": 38,
   "id": "17ff7015-7115-4a6a-9dfa-3f24b1e97786",
   "metadata": {
    "tags": []
   },
   "outputs": [
    {
     "name": "stdout",
     "output_type": "stream",
     "text": [
      "AUC score for Case A by computing over all edges is:  0.9821\n",
      "AUC score for Case B by computing only over missing edges is:  0.9909\n"
     ]
    }
   ],
   "source": [
    "print(\"AUC score for Case A by computing over all edges is: \", \n",
    "                                  overall_metrics(g_train, g_true1)[0])\n",
    "\n",
    "print(\"AUC score for Case B by computing only over missing edges is: \", \n",
    "                                  overall_metrics(g_train, g_true2)[0])"
   ]
  },
  {
   "cell_type": "code",
   "execution_count": 40,
   "id": "32d386be-7bee-4af5-9494-ce8439aa95f0",
   "metadata": {
    "tags": []
   },
   "outputs": [
    {
     "name": "stdout",
     "output_type": "stream",
     "text": [
      "F1 score for Case A by computing only over missing edges is:  0.5\n",
      "F1 score for Case B by computing only over missing edges is:  0.8\n"
     ]
    }
   ],
   "source": [
    "# F1 score for (a) and (b), computing only over missing edges\n",
    "print(\"F1 score for Case A by computing only over missing edges is: \", \n",
    "                                  overall_metrics(g_train, g_true1)[1])\n",
    "\n",
    "print(\"F1 score for Case B by computing only over missing edges is: \", \n",
    "                                  overall_metrics(g_train, g_true2)[1])"
   ]
  },
  {
   "cell_type": "code",
   "execution_count": 13,
   "id": "f0c61ef6-e09b-4b6b-905f-58b7dbbec0fb",
   "metadata": {
    "tags": []
   },
   "outputs": [],
   "source": [
    "# visualizing graph correctness\n",
    "# pos = nx.spring_layout(g_train)\n",
    "# nx.draw(\n",
    "#   g_train, pos, edge_color='black', width=1, linewidths=1,\n",
    "#   node_size=300, node_color='pink', alpha=0.9,\n",
    "#   labels={node: node for node in g_train.nodes()}\n",
    "# )\n",
    "\n",
    "# pos = nx.spring_layout(g_test2)\n",
    "# nx.draw(\n",
    "#   g_test2, pos, edge_color='black', width=1, linewidths=1,\n",
    "#   node_size=300, node_color='pink', alpha=0.9,\n",
    "#   labels={node: node for node in g_test2.nodes()}\n",
    "# )"
   ]
  }
 ],
 "metadata": {
  "kernelspec": {
   "display_name": "Python 3 (ipykernel)",
   "language": "python",
   "name": "python3"
  },
  "language_info": {
   "codemirror_mode": {
    "name": "ipython",
    "version": 3
   },
   "file_extension": ".py",
   "mimetype": "text/x-python",
   "name": "python",
   "nbconvert_exporter": "python",
   "pygments_lexer": "ipython3",
   "version": "3.11.3"
  }
 },
 "nbformat": 4,
 "nbformat_minor": 5
}
