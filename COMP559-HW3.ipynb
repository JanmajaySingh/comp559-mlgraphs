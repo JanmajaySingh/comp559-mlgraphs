{
 "cells": [
  {
   "cell_type": "code",
   "execution_count": 1,
   "id": "1a386743-fc03-48bd-aed1-1c6566a0fa60",
   "metadata": {
    "tags": []
   },
   "outputs": [],
   "source": [
    "import os, sys\n",
    "import numpy as np\n",
    "import random\n",
    "import networkx as nx\n",
    "from sklearn.cluster import SpectralClustering\n",
    "from sklearn import metrics\n",
    "\n",
    "from statistics import mode\n",
    "from collections import defaultdict"
   ]
  },
  {
   "cell_type": "markdown",
   "id": "0927eb1e-64a9-449c-954f-60c9a0e78588",
   "metadata": {},
   "source": [
    "## Problem 2"
   ]
  },
  {
   "cell_type": "code",
   "execution_count": 42,
   "id": "d2db6adb-76d5-4b16-84b3-ad5fb3a56cd4",
   "metadata": {
    "tags": []
   },
   "outputs": [],
   "source": [
    "# create example graph instance\n",
    "g = nx.karate_club_graph()\n",
    "\n",
    "# make graph labels\n",
    "g_labels = []\n",
    "for i in range(len(g.nodes)):\n",
    "    if g.nodes[i][\"club\"] == \"Mr. Hi\":\n",
    "        g_labels.append(1)\n",
    "    else:\n",
    "        g_labels.append(-1)"
   ]
  },
  {
   "cell_type": "code",
   "execution_count": 45,
   "id": "39e14e46-19bd-4562-8518-5c003acc1b4e",
   "metadata": {
    "tags": []
   },
   "outputs": [],
   "source": [
    "# perform spectral clustering as a way to segregate nodes\n",
    "adj = np.array(nx.adjacency_matrix(g).todense())\n",
    "clus = SpectralClustering(n_clusters=2,\n",
    "                          assign_labels=\"kmeans\",\n",
    "                          random_state=0,\n",
    "                          affinity=\"precomputed\").fit(adj)\n",
    "clus_labels = clus.labels_"
   ]
  },
  {
   "cell_type": "code",
   "execution_count": 47,
   "id": "c63e9a47-2541-4c49-a67c-5d5a23613bf0",
   "metadata": {
    "tags": []
   },
   "outputs": [],
   "source": [
    "# store vertex-wise degrees and sort by highest degree across types inferred by spectral clustering\n",
    "type0_degs = {}\n",
    "type1_degs = {}\n",
    "for i in range(g.number_of_nodes()):\n",
    "    if clus_labels[i] == 0:\n",
    "        type0_degs[i] = g.degree[i]\n",
    "    else:\n",
    "        type1_degs[i] = g.degree[i]\n",
    "        \n",
    "type0_degs = sorted(type0_degs.items(), key = lambda x:x[1], reverse = True)\n",
    "type1_degs = sorted(type1_degs.items(), key = lambda x:x[1], reverse = True)"
   ]
  },
  {
   "cell_type": "code",
   "execution_count": 51,
   "id": "07019229-15ff-4c85-b725-dd09e18c8318",
   "metadata": {
    "tags": []
   },
   "outputs": [],
   "source": [
    "def get_maxdeg_labels(k): #select k-vertices for each class type selected by max degree\n",
    "    l = {}\n",
    "    for i in range(k):\n",
    "        u,v = type0_degs[i]\n",
    "        l[u] = g_labels[u]\n",
    "    for i in range(k):\n",
    "        u,v = type1_degs[i]\n",
    "        l[u] = g_labels[u]\n",
    "    return(l)\n",
    "\n",
    "def get_rand_labels(k): # random selection of k-vertices\n",
    "    l = {}\n",
    "    for i in range(k):\n",
    "        x = random.randint(0, len(g_labels)-1)\n",
    "        l[x] = g_labels[x]\n",
    "    return(l)"
   ]
  },
  {
   "cell_type": "code",
   "execution_count": 76,
   "id": "6a7cc5a3-34b0-49ee-9da2-a2e3d1a0822f",
   "metadata": {
    "tags": []
   },
   "outputs": [],
   "source": [
    "def label_prop(g, labels):\n",
    "    \n",
    "    y = np.zeros((g.number_of_nodes(), 1))\n",
    "    idx = []\n",
    "    \n",
    "    i = 0\n",
    "    for v in g.nodes():\n",
    "        if v in labels:\n",
    "            y[i,0] = labels[v]\n",
    "            idx.append(i)\n",
    "        i = i + 1\n",
    "        \n",
    "    y0 = y.copy()    \n",
    "    P = nx.google_matrix(g, alpha=1.)\n",
    "    \n",
    "    idx = np.array(idx, dtype=int)\n",
    "        \n",
    "    for i in range(300): #100 iterations\n",
    "        y = P @ y\n",
    "        y[idx,:] = y0[idx]\n",
    "        \n",
    "    y[y >= 0] = 1\n",
    "    y[y < 0] = -1\n",
    "        \n",
    "    pred = np.zeros((g.number_of_nodes()))\n",
    "    \n",
    "    i = 0\n",
    "    for v in g.nodes():\n",
    "        pred[v] = int(y[i])\n",
    "        i = i + 1\n",
    "    \n",
    "    return pred"
   ]
  },
  {
   "cell_type": "code",
   "execution_count": 86,
   "id": "25848f56-6064-40c6-84ce-fff9d2d85492",
   "metadata": {
    "tags": []
   },
   "outputs": [
    {
     "name": "stdout",
     "output_type": "stream",
     "text": [
      "With Random selection with k = 2;\n",
      "Accuracy: 0.5\n",
      "F1 Score:0.0\n",
      "\n",
      "With Proposed selection with k = 2;\n",
      "Accuracy: 0.9705882352941176\n",
      "F1 Score:0.9696969696969697\n",
      "\n",
      "\n",
      "\n",
      "With Random selection with k = 3;\n",
      "Accuracy: 0.5\n",
      "F1 Score:0.6666666666666666\n",
      "\n",
      "With Proposed selection with k = 3;\n",
      "Accuracy: 0.9705882352941176\n",
      "F1 Score:0.9696969696969697\n",
      "\n",
      "\n",
      "\n",
      "With Random selection with k = 4;\n",
      "Accuracy: 0.5294117647058824\n",
      "F1 Score:0.6799999999999999\n",
      "\n",
      "With Proposed selection with k = 4;\n",
      "Accuracy: 1.0\n",
      "F1 Score:1.0\n",
      "\n",
      "\n",
      "\n",
      "With Random selection with k = 5;\n",
      "Accuracy: 0.9705882352941176\n",
      "F1 Score:0.9696969696969697\n",
      "\n",
      "With Proposed selection with k = 5;\n",
      "Accuracy: 1.0\n",
      "F1 Score:1.0\n",
      "\n",
      "\n",
      "\n",
      "With Random selection with k = 6;\n",
      "Accuracy: 0.5294117647058824\n",
      "F1 Score:0.6799999999999999\n",
      "\n",
      "With Proposed selection with k = 6;\n",
      "Accuracy: 1.0\n",
      "F1 Score:1.0\n",
      "\n",
      "\n",
      "\n"
     ]
    }
   ],
   "source": [
    "# Selecting k vertices and comparing proposed selection criteria against random\n",
    "for k in range(2,7):\n",
    "    rand_v = get_rand_labels(k)\n",
    "    rand_preds = label_prop(g, rand_v)\n",
    "    print(\"With Random selection with k = {};\\nAccuracy: {}\\nF1 Score:{}\".format(k,\n",
    "                                               metrics.accuracy_score(g_labels, rand_preds),\n",
    "                                               metrics.f1_score(g_labels, rand_preds)))\n",
    "\n",
    "    print()\n",
    "\n",
    "    spec_deg_v = get_maxdeg_labels(k)\n",
    "    spec_deg_preds = label_prop(g, spec_deg_v)\n",
    "    print(\"With Proposed selection with k = {};\\nAccuracy: {}\\nF1 Score:{}\".format(k,\n",
    "                                               metrics.accuracy_score(g_labels, spec_deg_preds),\n",
    "                                               metrics.f1_score(g_labels, spec_deg_preds)))\n",
    "    \n",
    "    print(\"\\n\\n\")"
   ]
  },
  {
   "cell_type": "markdown",
   "id": "d96d2eb3-5437-42b5-80c3-c5267cfa97b0",
   "metadata": {},
   "source": [
    "## Problem 4"
   ]
  },
  {
   "cell_type": "code",
   "execution_count": 2,
   "id": "2505ff48-8ea3-4983-a085-c7e0fb729428",
   "metadata": {
    "tags": []
   },
   "outputs": [],
   "source": [
    "import csv"
   ]
  },
  {
   "cell_type": "code",
   "execution_count": 3,
   "id": "7f1dbb3f-f6bd-475f-b150-6ac027d144cd",
   "metadata": {
    "tags": []
   },
   "outputs": [],
   "source": [
    "G = nx.read_edgelist(\"cora.cites\",nodetype=int)\n",
    "\n",
    "node_labels = {}\n",
    "node_features = {}\n",
    "labels = {}\n",
    "with open('cora.content') as csvfile:\n",
    "    reader = csv.reader(csvfile, delimiter='\\t')\n",
    "    for row in reader:\n",
    "        if row[-1] not in labels:\n",
    "            labels[row[-1]] = len(labels)\n",
    "            \n",
    "        node_labels[int(row[0])] = labels[row[-1]]\n",
    "        node_features[int(row[0])] = row[1:-1]"
   ]
  },
  {
   "cell_type": "code",
   "execution_count": 4,
   "id": "9bb78871-c230-4e9c-a180-c4a561e77941",
   "metadata": {
    "tags": []
   },
   "outputs": [],
   "source": [
    "conn_comps = sorted(nx.connected_components(G), key=len, reverse=True)\n",
    "max_conn_comp = G.subgraph(conn_comps[0])\n",
    "\n",
    "conn_labels=[]\n",
    "conn_feats=[]\n",
    "for i in max_conn_comp.nodes():\n",
    "  conn_labels.append(node_labels[i])\n",
    "  conn_feats.append(node_features[i])"
   ]
  },
  {
   "cell_type": "code",
   "execution_count": null,
   "id": "3cf75e68-8d92-498a-8628-88880faa61ad",
   "metadata": {
    "tags": []
   },
   "outputs": [],
   "source": [
    "SpectralClustering(n_clusters = 3, \n",
    "                              assign_labels = \"kmeans\",\n",
    "                              random_state = 0).fit(conn_feats)"
   ]
  },
  {
   "cell_type": "code",
   "execution_count": null,
   "id": "0042c3e6-f421-4712-8d54-b5dfb7ff536f",
   "metadata": {
    "tags": []
   },
   "outputs": [],
   "source": [
    "for num_cluster in range(3,8):\n",
    "\n",
    "    clus1 = SpectralClustering(n_clusters = num_cluster, \n",
    "                              assign_labels = \"kmeans\",\n",
    "                              random_state = 0).fit(conn_feats)\n",
    "    preds1 = clus1.labels_\n",
    "\n",
    "\n",
    "    clus2 = SpectralClustering(n_clusters = num_cluster, \n",
    "                               assign_labels = \"kmeans\", \n",
    "                               random_state = 0, \n",
    "                               affinity = \"precomputed\").fit(nx.adjacency_matrix(max_conn_comp).todense())\n",
    "    preds2 = clus2_labels_\n",
    "    \n",
    "    print(\"For number of cluster: \", num_cluster)\n",
    "    \n",
    "    print(\"Clustering with connected features;\\nRand Index: {}\\nAdjusted Rand Index:{}\".format(\n",
    "                                                metrics.rand_score(conn_labels, preds1),\n",
    "                                                metrics.adjusted_rand__score(conn_labels, preds1)))\n",
    "    \n",
    "    print(\"Clustering with largest connected subgraph;\\nRand Index: {}\\nAdjusted Rand Index:{}\".format(\n",
    "                                                metrics.rand_score(conn_labels, preds2),\n",
    "                                                metrics.adjusted_rand__score(conn_labels, preds2)))\n",
    "\n"
   ]
  }
 ],
 "metadata": {
  "kernelspec": {
   "display_name": "Python 3 (ipykernel)",
   "language": "python",
   "name": "python3"
  },
  "language_info": {
   "codemirror_mode": {
    "name": "ipython",
    "version": 3
   },
   "file_extension": ".py",
   "mimetype": "text/x-python",
   "name": "python",
   "nbconvert_exporter": "python",
   "pygments_lexer": "ipython3",
   "version": "3.11.3"
  }
 },
 "nbformat": 4,
 "nbformat_minor": 5
}
