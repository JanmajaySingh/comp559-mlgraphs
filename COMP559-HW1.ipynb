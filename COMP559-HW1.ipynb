{
 "cells": [
  {
   "cell_type": "markdown",
   "metadata": {},
   "source": [
    "### Question 3. \n",
    "\n",
    "You will implement and evaluate a subgraph-based similarity function for labeled graphs. For each graph, count the frequency of occurrences for every possible connected subgraph with k vertices. As an example, k = 1 you will get the frequency of vertices with each label. For k = 2, you will get the frequency of edges with a given combination of vertex and edge labels. For k = 3, you will get the frequency of every (connected) labeled triad. A graph will be rep- resented by a vector with the frequency of each subgraph. Then the similarity between the two graphs can be computed using the inner product between their respective subgraph frequency vectors. This is called a graphlet kernel.\n",
    "\n",
    "- Implement the proposed method in Python assuming that both vertices and edges are labeled. You can use the networkx library1 to manipulate the data.\n",
    "- Use the MUTAG2 dataset to evaluate the running time of your implementation for different values of k.\n",
    "\n"
   ]
  },
  {
   "cell_type": "code",
   "execution_count": 1,
   "metadata": {
    "collapsed": true,
    "jupyter": {
     "outputs_hidden": true
    },
    "tags": []
   },
   "outputs": [
    {
     "name": "stderr",
     "output_type": "stream",
     "text": [
      "/Users/janmajay/anaconda3/envs/comp559/lib/python3.11/site-packages/torch_geometric/typing.py:18: UserWarning: An issue occurred while importing 'pyg-lib'. Disabling its usage. Stacktrace: dlopen(/Users/janmajay/anaconda3/envs/comp559/lib/python3.11/site-packages/libpyg.so, 0x0006): Library not loaded: /Library/Frameworks/Python.framework/Versions/3.11/Python\n",
      "  Referenced from: <134F7B51-AAB6-3809-A8B5-D767D79A4384> /Users/janmajay/anaconda3/envs/comp559/lib/python3.11/site-packages/libpyg.so\n",
      "  Reason: tried: '/Library/Frameworks/Python.framework/Versions/3.11/Python' (no such file), '/System/Volumes/Preboot/Cryptexes/OS/Library/Frameworks/Python.framework/Versions/3.11/Python' (no such file), '/Library/Frameworks/Python.framework/Versions/3.11/Python' (no such file), '/System/Library/Frameworks/Python.framework/Versions/3.11/Python' (no such file, not in dyld cache)\n",
      "  warnings.warn(f\"An issue occurred while importing 'pyg-lib'. \"\n",
      "/Users/janmajay/anaconda3/envs/comp559/lib/python3.11/site-packages/torch_geometric/typing.py:42: UserWarning: An issue occurred while importing 'torch-sparse'. Disabling its usage. Stacktrace: dlopen(/Users/janmajay/anaconda3/envs/comp559/lib/python3.11/site-packages/libpyg.so, 0x0006): Library not loaded: /Library/Frameworks/Python.framework/Versions/3.11/Python\n",
      "  Referenced from: <134F7B51-AAB6-3809-A8B5-D767D79A4384> /Users/janmajay/anaconda3/envs/comp559/lib/python3.11/site-packages/libpyg.so\n",
      "  Reason: tried: '/Library/Frameworks/Python.framework/Versions/3.11/Python' (no such file), '/System/Volumes/Preboot/Cryptexes/OS/Library/Frameworks/Python.framework/Versions/3.11/Python' (no such file), '/Library/Frameworks/Python.framework/Versions/3.11/Python' (no such file), '/System/Library/Frameworks/Python.framework/Versions/3.11/Python' (no such file, not in dyld cache)\n",
      "  warnings.warn(f\"An issue occurred while importing 'torch-sparse'. \"\n",
      "/Users/janmajay/anaconda3/envs/comp559/lib/python3.11/site-packages/tqdm/auto.py:21: TqdmWarning: IProgress not found. Please update jupyter and ipywidgets. See https://ipywidgets.readthedocs.io/en/stable/user_install.html\n",
      "  from .autonotebook import tqdm as notebook_tqdm\n"
     ]
    }
   ],
   "source": [
    "import os, sys\n",
    "import time\n",
    "\n",
    "import numpy as np\n",
    "import itertools\n",
    "\n",
    "import networkx as nx\n",
    "from torch_geometric.data import Data\n",
    "from torch_geometric.loader import DataLoader\n",
    "from datasets import load_dataset\n",
    "\n",
    "import matplotlib.pyplot as plt"
   ]
  },
  {
   "cell_type": "code",
   "execution_count": 3,
   "metadata": {
    "collapsed": true,
    "jupyter": {
     "outputs_hidden": true
    },
    "tags": []
   },
   "outputs": [
    {
     "name": "stderr",
     "output_type": "stream",
     "text": [
      "Found cached dataset json (/Users/janmajay/.cache/huggingface/datasets/graphs-datasets___json/graphs-datasets--MUTAG-a0cf78a2615b5c11/0.0.0/e347ab1c932092252e717ff3f949105a4dd28b27e842dd53157d2f72e276c2e4)\n",
      "100%|█████████████████████████████████████████| 1/1 [00:00<00:00, 342.11it/s]\n"
     ]
    }
   ],
   "source": [
    "mutag_data = load_dataset(\"graphs-datasets/MUTAG\")\n",
    "mutag_data_list = [Data(i) for i in mutag_data[\"train\"]]"
   ]
  },
  {
   "cell_type": "code",
   "execution_count": 37,
   "metadata": {
    "tags": []
   },
   "outputs": [],
   "source": [
    "def get_nx_graph(data_list):\n",
    "    \n",
    "    nx_graph_list = []\n",
    "    \n",
    "    for curr_data in data_list:\n",
    "        \n",
    "        edge_idx = curr_data.x[\"edge_index\"]\n",
    "        edge_attr = curr_data.x[\"edge_attr\"]\n",
    "        node_feat = curr_data.x[\"node_feat\"]\n",
    "        num_nodes = curr_data.x[\"num_nodes\"]\n",
    "        \n",
    "        # change to better encoding\n",
    "        edge_attr = np.where(np.array(edge_attr) == 1)[1]\n",
    "        node_feat = np.where(np.array(node_feat) == 1)[1]\n",
    "        \n",
    "        # construct networkx graph object\n",
    "        g = nx.Graph()\n",
    "        \n",
    "        for i in range(num_nodes):\n",
    "            g.add_node(i, node_label = node_feat[i])\n",
    "            \n",
    "        for i in range(len(edge_idx[0])):\n",
    "            g.add_edge(edge_idx[0][i], edge_idx[1][i], edge_label = edge_attr[i])\n",
    "            \n",
    "        \n",
    "        nx_graph_list.append(g)\n",
    "    \n",
    "    return(nx_graph_list)"
   ]
  },
  {
   "cell_type": "code",
   "execution_count": 45,
   "metadata": {
    "tags": []
   },
   "outputs": [],
   "source": [
    "nx_graph_list = get_nx_graph(mutag_data_list)"
   ]
  },
  {
   "cell_type": "code",
   "execution_count": 56,
   "metadata": {
    "tags": []
   },
   "outputs": [],
   "source": [
    "def get_subgraphs_k(G, k): # takes one networkx graph object\n",
    "    \n",
    "    subgraphs_k = []\n",
    "    \n",
    "    for node_set in itertools.combinations(G.nodes, r = k):\n",
    "        if nx.is_path(G, node_set):\n",
    "            subgraphs_k.append(nx.subgraph(G, node_set))\n",
    "            \n",
    "    return (subgraphs_k)"
   ]
  },
  {
   "cell_type": "code",
   "execution_count": 58,
   "metadata": {
    "tags": []
   },
   "outputs": [],
   "source": [
    "def get_graphlet_kernel(G,k): # takes one networkx graph object\n",
    "    \n",
    "    graph_kernel = {}\n",
    "    \n",
    "    for sg in get_subgraphs_k(G, k):\n",
    "        key = nx.weisfeiler_lehman_graph_hash(sg, \n",
    "                                              edge_attr = \"edge_label\",\n",
    "                                              node_attr = \"node_label\")\n",
    "            \n",
    "        if key in graph_kernel:\n",
    "            graph_kernel[key] += 1\n",
    "        else:\n",
    "            graph_kernel[key] = 1\n",
    "            \n",
    "    sim = np.linalg.norm(list(graph_kernel.values()))\n",
    "    graph_kernel = {key: graph_kernel[key]/sim for key in graph_kernel}\n",
    "    return(graph_kernel)            "
   ]
  },
  {
   "cell_type": "code",
   "execution_count": 64,
   "metadata": {
    "tags": []
   },
   "outputs": [],
   "source": [
    "def calc_graphkern_sim(graphs, k):\n",
    "    \n",
    "    kern_sim_mat = np.zeros(shape=(len(graphs), len(graphs)))\n",
    "    \n",
    "    graphlet_list = []\n",
    "    for graph in graphs:\n",
    "        graphlet_list.append(graphlet_kernel(graph, k))\n",
    "        \n",
    "    for i, graph1 in enumerate(graphlet_list):\n",
    "        for j, graph2 in enumerate(graphlet_list):\n",
    "            \n",
    "            total_sim = 0\n",
    "            \n",
    "            graph1_hashes = set(graph1.keys())\n",
    "            graph2_hashes = set(graph2.keys())\n",
    "            hash_intersecs = graph1_hashes.intersection(graph2_hashes)\n",
    "            \n",
    "            for h in hash_intersecs:\n",
    "                total_sim += graph1[h] * graph2[h]\n",
    "                \n",
    "            kern_sim_mat[i][j] = total_sim\n",
    "    \n",
    "    return(kern_sim_mat)"
   ]
  },
  {
   "cell_type": "code",
   "execution_count": 78,
   "metadata": {
    "collapsed": true,
    "jupyter": {
     "outputs_hidden": true
    },
    "tags": []
   },
   "outputs": [
    {
     "name": "stdout",
     "output_type": "stream",
     "text": [
      "1\n",
      "2\n",
      "3\n",
      "4\n",
      "5\n",
      "6\n",
      "7\n"
     ]
    }
   ],
   "source": [
    "k_time_list = []\n",
    "for k in np.arange(1,8):\n",
    "    print(k)\n",
    "    start = time.time()\n",
    "    temp = calc_graphkern_sim(nx_graph_list, k)\n",
    "    k_time_list.append(time.time() - start)"
   ]
  },
  {
   "cell_type": "code",
   "execution_count": 84,
   "metadata": {
    "tags": []
   },
   "outputs": [
    {
     "data": {
      "text/plain": [
       "Text(0, 0.5, 'Time Taken')"
      ]
     },
     "execution_count": 84,
     "metadata": {},
     "output_type": "execute_result"
    },
    {
     "data": {
      "image/png": "[encoded data removed]",
      "text/plain": [
       "<Figure size 640x480 with 1 Axes>"
      ]
     },
     "metadata": {},
     "output_type": "display_data"
    }
   ],
   "source": [
    "plt.bar(np.arange(1,8), k_time_list)\n",
    "plt.xlabel(\"#Vertices in Subgraph\")\n",
    "plt.ylabel(\"Time Taken\")"
   ]
  },
  {
   "cell_type": "code",
   "execution_count": 92,
   "metadata": {
    "tags": []
   },
   "outputs": [],
   "source": [
    "class0_data_list = [i for i in mutag_data_list if i.x[\"y\"][0] == 0]\n",
    "class1_data_list = [i for i in mutag_data_list if i.x[\"y\"][0] == 1]\n",
    "\n",
    "class0_nx_graph_list = get_nx_graph(class0_data_list)\n",
    "class1_nx_graph_list = get_nx_graph(class1_data_list)"
   ]
  },
  {
   "cell_type": "code",
   "execution_count": 95,
   "metadata": {
    "tags": []
   },
   "outputs": [],
   "source": [
    "k = 4\n",
    "class0_sim = calc_graphkern_sim(class0_nx_graph_list, k)\n",
    "class1_sim = calc_graphkern_sim(class1_nx_graph_list, k)"
   ]
  },
  {
   "cell_type": "code",
   "execution_count": 105,
   "metadata": {
    "tags": []
   },
   "outputs": [
    {
     "name": "stdout",
     "output_type": "stream",
     "text": [
      "Class 0 Mean subgraph similarity is 0.573 with Std.: 0.361\n",
      "Class 1 Mean subgraph similarity is 0.769 with Std.: 0.238\n"
     ]
    }
   ],
   "source": [
    "# With k = 4\n",
    "print(\"Class 0 Mean subgraph similarity is {} with Std.: {}\".format(\n",
    "                                                    np.round(np.mean(class0_sim.flatten()), 3), \n",
    "                                                    np.round(np.std(class0_sim.flatten()), 3)))\n",
    "\n",
    "print(\"Class 1 Mean subgraph similarity is {} with Std.: {}\".format(\n",
    "                                                    np.round(np.mean(class1_sim.flatten()), 3), \n",
    "                                                    np.round(np.std(class1_sim.flatten()), 3)))"
   ]
  },
  {
   "cell_type": "code",
   "execution_count": 106,
   "metadata": {
    "tags": []
   },
   "outputs": [],
   "source": [
    "k = 5\n",
    "class0_sim = calc_graphkern_sim(class0_nx_graph_list, k)\n",
    "class1_sim = calc_graphkern_sim(class1_nx_graph_list, k)"
   ]
  },
  {
   "cell_type": "code",
   "execution_count": 107,
   "metadata": {
    "tags": []
   },
   "outputs": [
    {
     "name": "stdout",
     "output_type": "stream",
     "text": [
      "Class 0 Mean subgraph similarity is 0.519 with Std.: 0.343\n",
      "Class 1 Mean subgraph similarity is 0.704 with Std.: 0.246\n"
     ]
    }
   ],
   "source": [
    "# With k = 5\n",
    "print(\"Class 0 Mean subgraph similarity is {} with Std.: {}\".format(\n",
    "                                                    np.round(np.mean(class0_sim.flatten()), 3), \n",
    "                                                    np.round(np.std(class0_sim.flatten()), 3)))\n",
    "\n",
    "print(\"Class 1 Mean subgraph similarity is {} with Std.: {}\".format(\n",
    "                                                    np.round(np.mean(class1_sim.flatten()), 3), \n",
    "                                                    np.round(np.std(class1_sim.flatten()), 3)))"
   ]
  }
 ],
 "metadata": {
  "kernelspec": {
   "display_name": "Python 3 (ipykernel)",
   "language": "python",
   "name": "python3"
  },
  "language_info": {
   "codemirror_mode": {
    "name": "ipython",
    "version": 3
   },
   "file_extension": ".py",
   "mimetype": "text/x-python",
   "name": "python",
   "nbconvert_exporter": "python",
   "pygments_lexer": "ipython3",
   "version": "3.11.3"
  }
 },
 "nbformat": 4,
 "nbformat_minor": 4
}
